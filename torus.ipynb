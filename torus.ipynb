{
 "cells": [
  {
   "cell_type": "markdown",
   "metadata": {},
   "source": [
    "# Draw in torus"
   ]
  },
  {
   "cell_type": "code",
   "execution_count": 1,
   "metadata": {},
   "outputs": [],
   "source": [
    "import numpy as np\n",
    "import math\n",
    "import matplotlib.pyplot as plt\n",
    "import matplotlib.lines as lines\n",
    "from torus.torus import *"
   ]
  },
  {
   "cell_type": "code",
   "execution_count": 2,
   "metadata": {},
   "outputs": [],
   "source": [
    "%matplotlib inline\n",
    "%load_ext autoreload\n",
    "%autoreload 2"
   ]
  },
  {
   "cell_type": "code",
   "execution_count": 3,
   "metadata": {},
   "outputs": [],
   "source": [
    "# define a torus\n",
    "tor = Torus(1, 2)"
   ]
  },
  {
   "cell_type": "code",
   "execution_count": 4,
   "metadata": {},
   "outputs": [
    {
     "data": {
      "text/plain": [
       "(1.1, 0.9)"
      ]
     },
     "execution_count": 4,
     "metadata": {},
     "output_type": "execute_result"
    }
   ],
   "source": [
    "# define a point \n",
    "p1 = Point(1.1, 0.9)\n",
    "p1"
   ]
  },
  {
   "cell_type": "code",
   "execution_count": 5,
   "metadata": {},
   "outputs": [
    {
     "data": {
      "text/plain": [
       "(0.10000000000000009, 0.9)"
      ]
     },
     "execution_count": 5,
     "metadata": {},
     "output_type": "execute_result"
    }
   ],
   "source": [
    "# put on the torus (transform to tor coordinates)\n",
    "p1 = p1.place_in_torus(tor)\n",
    "p1"
   ]
  },
  {
   "cell_type": "code",
   "execution_count": 6,
   "metadata": {},
   "outputs": [
    {
     "data": {
      "text/plain": [
       "(0.8, 1.5)"
      ]
     },
     "execution_count": 6,
     "metadata": {},
     "output_type": "execute_result"
    }
   ],
   "source": [
    "# define another point directly on torus\n",
    "p2 = Point.in_torus(0.8, 1.5, tor)\n",
    "p2"
   ]
  },
  {
   "cell_type": "code",
   "execution_count": 7,
   "metadata": {},
   "outputs": [
    {
     "name": "stdout",
     "output_type": "stream",
     "text": [
      "(0.6708203932499369, 'left')\n",
      "(0.6708203932499369, 'right')\n"
     ]
    }
   ],
   "source": [
    "# compute the distance on torus\n",
    "print(distance_torus(p1, p2, tor))\n",
    "print(distance_torus(p2, p1, tor))"
   ]
  },
  {
   "cell_type": "code",
   "execution_count": 21,
   "metadata": {},
   "outputs": [
    {
     "data": {
      "image/png": "[encoded data removed]",
      "text/plain": [
       "<matplotlib.figure.Figure at 0x11ac13550>"
      ]
     },
     "metadata": {},
     "output_type": "display_data"
    }
   ],
   "source": [
    "base_figsize = 4\n",
    "fig, ax = plt.subplots(figsize=(base_figsize, base_figsize * tor.width / tor.length))\n",
    "p1.plot()\n",
    "p2.plot()\n",
    "draw_shortest_path(p1, p2, tor)\n",
    "draw_shortest_path(Point(0.4, 0.23), Point(0.4, 1.9), tor)\n",
    "draw_shortest_path(Point(0.1, 0.23), Point(0.9, 0.23), tor)\n",
    "draw_shortest_path(Point(0.1, 0.23), Point(0.2, 0.33), tor)\n",
    "plt.xlim(0, tor.length)\n",
    "plt.ylim(0, tor.width);"
   ]
  }
 ],
 "metadata": {
  "kernelspec": {
   "display_name": "Python [conda env:py35]",
   "language": "python",
   "name": "conda-env-py35-py"
  },
  "language_info": {
   "codemirror_mode": {
    "name": "ipython",
    "version": 3
   },
   "file_extension": ".py",
   "mimetype": "text/x-python",
   "name": "python",
   "nbconvert_exporter": "python",
   "pygments_lexer": "ipython3",
   "version": "3.5.3"
  }
 },
 "nbformat": 4,
 "nbformat_minor": 2
}
